{
 "cells": [
  {
   "cell_type": "code",
   "execution_count": null,
   "metadata": {},
   "outputs": [],
   "source": [
    "# https://projecteuler.net/problem=1\n",
    "\n",
    "import numpy as np\n",
    "\n",
    "multiple_of_3 = []\n",
    "multiple_of_5 = []\n",
    "\n",
    "for i in range(1000):\n",
    "    if i%3==0:\n",
    "        multiple_of_3.append(i)\n",
    "    \n",
    "    if i%5==0:\n",
    "        multiple_of_5.append(i)\n",
    "\n",
    "multiple_of_3_and_5 = np.concatenate([multiple_of_3, multiple_of_5])\n",
    "multiple_of_3_and_5 = np.unique(multiple_of_3_and_5)\n",
    "\n",
    "answer = sum(multiple_of_3_and_5)\n",
    "answer"
   ]
  }
 ],
 "metadata": {
  "kernelspec": {
   "display_name": "Python 3",
   "language": "python",
   "name": "python3"
  },
  "language_info": {
   "codemirror_mode": {
    "name": "ipython",
    "version": 3
   },
   "file_extension": ".py",
   "mimetype": "text/x-python",
   "name": "python",
   "nbconvert_exporter": "python",
   "pygments_lexer": "ipython3",
   "version": "3.12.4"
  }
 },
 "nbformat": 4,
 "nbformat_minor": 2
}
