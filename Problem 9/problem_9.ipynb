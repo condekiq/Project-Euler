{
 "cells": [
  {
   "cell_type": "code",
   "execution_count": null,
   "metadata": {},
   "outputs": [],
   "source": [
    "# https://projecteuler.net/problem=9\n",
    "\n",
    "import math\n",
    "\n",
    "epsilon = 0.0001\n",
    "a_max = 500\n",
    "\n",
    "for a in range(1, a_max):\n",
    "    for b in range(a+1, a_max):\n",
    "        c = math.sqrt(a*a + b*b)\n",
    "        if b<c:\n",
    "            if abs(a+b+c - 1000)<epsilon:\n",
    "                ans = a*b*int(c)\n",
    "            \n",
    "ans"
   ]
  }
 ],
 "metadata": {
  "kernelspec": {
   "display_name": "Python 3",
   "language": "python",
   "name": "python3"
  },
  "language_info": {
   "codemirror_mode": {
    "name": "ipython",
    "version": 3
   },
   "file_extension": ".py",
   "mimetype": "text/x-python",
   "name": "python",
   "nbconvert_exporter": "python",
   "pygments_lexer": "ipython3",
   "version": "3.12.3"
  }
 },
 "nbformat": 4,
 "nbformat_minor": 2
}
