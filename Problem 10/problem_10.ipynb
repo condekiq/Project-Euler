{
 "cells": [
  {
   "cell_type": "code",
   "execution_count": null,
   "metadata": {},
   "outputs": [],
   "source": [
    "# https://projecteuler.net/problem=10\n",
    "\n",
    "import math\n",
    "\n",
    "target = 2000000\n",
    "\n",
    "def sieveList(n):\n",
    "    sieve = [True]*n\n",
    "    for p in range(2, n):\n",
    "        if sieve[p]:\n",
    "            for i in range(2*p, n, p):\n",
    "                sieve[i] = False\n",
    "    return sieve\n",
    "\n",
    "siegeList_target = sieveList(target)\n",
    "\n",
    "ans = -1\n",
    "for i in range(len(siegeList_target)):\n",
    "    if siegeList_target[i]:\n",
    "        ans += i\n",
    "ans"
   ]
  }
 ],
 "metadata": {
  "kernelspec": {
   "display_name": "Python 3",
   "language": "python",
   "name": "python3"
  },
  "language_info": {
   "codemirror_mode": {
    "name": "ipython",
    "version": 3
   },
   "file_extension": ".py",
   "mimetype": "text/x-python",
   "name": "python",
   "nbconvert_exporter": "python",
   "pygments_lexer": "ipython3",
   "version": "3.12.3"
  }
 },
 "nbformat": 4,
 "nbformat_minor": 2
}
