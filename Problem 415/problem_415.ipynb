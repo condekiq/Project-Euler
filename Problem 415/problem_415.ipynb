{
 "cells": [
  {
   "cell_type": "code",
   "execution_count": 286,
   "metadata": {},
   "outputs": [],
   "source": [
    "# https://projecteuler.net/problem=415\n",
    "\n",
    "import numpy as np\n",
    "from math import gcd\n",
    "\n",
    "def f(m,n,k):\n",
    "    if k > max(m,n):\n",
    "        return 0\n",
    "    else:\n",
    "        sum = 4*n*m - 2*k*(m+n)\n",
    "        for x in range(1,m):\n",
    "            for y in range(1,n):\n",
    "                if gcd(x,y)==k:\n",
    "                    sum += 4*(m - x)*(n - y)\n",
    "        return sum\n",
    "\n",
    "def Lj(m,n,j):\n",
    "    return 0.5*(f(m,n,j+1) - 2*f(m,n,j) + f(m,n,j-1))\n",
    "\n",
    "def S(m,n):\n",
    "    sum = 0\n",
    "    for j in range(3, max(m,n)+1):\n",
    "        sum = sum + Lj(m,n,j)*(2**j - 0.5*j*(j-1) - j - 1)\n",
    "    return sum\n",
    "\n",
    "def T(N):\n",
    "    return 2**((N+1)**2) - (N+1)**2 - 1 - S(N+1,N+1)"
   ]
  },
  {
   "cell_type": "code",
   "execution_count": 315,
   "metadata": {},
   "outputs": [
    {
     "data": {
      "text/plain": [
       "68719476736"
      ]
     },
     "execution_count": 315,
     "metadata": {},
     "output_type": "execute_result"
    }
   ],
   "source": [
    "N=5\n",
    "2**((N+1)**2)"
   ]
  },
  {
   "cell_type": "code",
   "execution_count": 317,
   "metadata": {},
   "outputs": [
    {
     "data": {
      "text/plain": [
       "np.int32(2)"
      ]
     },
     "execution_count": 317,
     "metadata": {},
     "output_type": "execute_result"
    }
   ],
   "source": [
    "np.mod(17,3)"
   ]
  },
  {
   "cell_type": "code",
   "execution_count": null,
   "metadata": {},
   "outputs": [],
   "source": []
  },
  {
   "cell_type": "code",
   "execution_count": null,
   "metadata": {},
   "outputs": [],
   "source": []
  }
 ],
 "metadata": {
  "kernelspec": {
   "display_name": "Python 3",
   "language": "python",
   "name": "python3"
  },
  "language_info": {
   "codemirror_mode": {
    "name": "ipython",
    "version": 3
   },
   "file_extension": ".py",
   "mimetype": "text/x-python",
   "name": "python",
   "nbconvert_exporter": "python",
   "pygments_lexer": "ipython3",
   "version": "3.12.4"
  }
 },
 "nbformat": 4,
 "nbformat_minor": 2
}
