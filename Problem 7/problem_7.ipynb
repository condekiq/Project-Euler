{
 "cells": [
  {
   "cell_type": "code",
   "execution_count": 4,
   "metadata": {},
   "outputs": [],
   "source": [
    "# https://projecteuler.net/problem=7\n",
    "\n",
    "def prime(n):\n",
    "    if n==1:\n",
    "        return 2\n",
    "    else:\n",
    "        prime_array = [2]\n",
    "        target = 3\n",
    "        while len(prime_array) < n:\n",
    "            flag = 1\n",
    "            for i in prime_array:\n",
    "                if target%i==0:\n",
    "                    flag = 0\n",
    "                    break\n",
    "            if flag:\n",
    "                prime_array.append(target)\n",
    "            target += 2\n",
    "        return prime_array[-1]"
   ]
  },
  {
   "cell_type": "code",
   "execution_count": null,
   "metadata": {},
   "outputs": [],
   "source": []
  },
  {
   "cell_type": "code",
   "execution_count": null,
   "metadata": {},
   "outputs": [],
   "source": []
  }
 ],
 "metadata": {
  "kernelspec": {
   "display_name": "Python 3",
   "language": "python",
   "name": "python3"
  },
  "language_info": {
   "codemirror_mode": {
    "name": "ipython",
    "version": 3
   },
   "file_extension": ".py",
   "mimetype": "text/x-python",
   "name": "python",
   "nbconvert_exporter": "python",
   "pygments_lexer": "ipython3",
   "version": "3.12.3"
  }
 },
 "nbformat": 4,
 "nbformat_minor": 2
}
