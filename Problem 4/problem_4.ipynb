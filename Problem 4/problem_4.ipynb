{
 "cells": [
  {
   "cell_type": "code",
   "execution_count": 119,
   "metadata": {},
   "outputs": [
    {
     "data": {
      "text/plain": [
       "906609"
      ]
     },
     "execution_count": 119,
     "metadata": {},
     "output_type": "execute_result"
    }
   ],
   "source": [
    "# https://projecteuler.net/problem=4\n",
    "\n",
    "palindrome = []\n",
    "for i in range(101,1000):\n",
    "    for j in range(101, 1000):\n",
    "        num = i*j\n",
    "        num_str = str(num)\n",
    "        if num_str[-1]!=0:\n",
    "            flag = 1\n",
    "            for k in range(int(len(num_str)/2)):\n",
    "                check_i = num_str[k]\n",
    "                check_f = num_str[-1-k]\n",
    "                if check_f != check_i:\n",
    "                    flag = 0\n",
    "                    break\n",
    "        if flag==1:\n",
    "            palindrome.append((num,i,j))\n",
    "            \n",
    "palindrome = sorted(palindrome, reverse=True)\n",
    "ans = palindrome[0][0]\n",
    "\n",
    "ans"
   ]
  },
  {
   "cell_type": "code",
   "execution_count": null,
   "metadata": {},
   "outputs": [],
   "source": []
  },
  {
   "cell_type": "code",
   "execution_count": null,
   "metadata": {},
   "outputs": [],
   "source": []
  }
 ],
 "metadata": {
  "kernelspec": {
   "display_name": "Python 3",
   "language": "python",
   "name": "python3"
  },
  "language_info": {
   "codemirror_mode": {
    "name": "ipython",
    "version": 3
   },
   "file_extension": ".py",
   "mimetype": "text/x-python",
   "name": "python",
   "nbconvert_exporter": "python",
   "pygments_lexer": "ipython3",
   "version": "3.12.3"
  }
 },
 "nbformat": 4,
 "nbformat_minor": 2
}
